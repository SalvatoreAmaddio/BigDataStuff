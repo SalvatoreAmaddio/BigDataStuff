{
 "cells": [
  {
   "cell_type": "markdown",
   "id": "a05ab685-65aa-4c7c-a769-f01e4a1ebf05",
   "metadata": {},
   "source": [
    "**IMPORTANT**\n",
    "You might need to install the SPARQLWrapper and some additional packages, please uncomment the code row below and run the command."
   ]
  },
  {
   "cell_type": "code",
   "execution_count": 1,
   "id": "b7c0fa99-f5e5-4c37-bb1d-b741a6b985a2",
   "metadata": {
    "jupyter": {
     "source_hidden": true
    },
    "scrolled": true
   },
   "outputs": [],
   "source": [
    "#!pip install SPARQLWrapper\n",
    "#!pip install matplotlib pandas\n",
    "#!pip install pandas sqlalchemy mysql-connector-python"
   ]
  },
  {
   "cell_type": "code",
   "execution_count": 2,
   "id": "798852c8-c196-4e6d-a5d2-2eb40b9c2d2c",
   "metadata": {
    "jupyter": {
     "source_hidden": true
    }
   },
   "outputs": [],
   "source": [
    "from SPARQLWrapper import SPARQLWrapper, JSON\n",
    "from IPython.display import HTML\n",
    "import pandas as pd\n",
    "import numpy as np\n",
    "import matplotlib.pyplot as plt\n",
    "from sqlalchemy import create_engine, text"
   ]
  },
  {
   "cell_type": "markdown",
   "id": "4e4abc83-a132-40c0-988a-ffc543ea6026",
   "metadata": {},
   "source": [
    "**MYSQL USER AND PASSWORD**"
   ]
  },
  {
   "cell_type": "code",
   "execution_count": null,
   "id": "fabd3c84-c304-4f16-9e9f-e8cf8f1b2395",
   "metadata": {
    "jupyter": {
     "source_hidden": true
    }
   },
   "outputs": [],
   "source": [
    "user = \"root\" #you might need to change this\n",
    "password = \"root\" #you might need to change this\n",
    "host = \"localhost\""
   ]
  },
  {
   "cell_type": "markdown",
   "id": "33e4fda8-0f18-4399-a8c3-9dca8a74fce2",
   "metadata": {
    "jupyter": {
     "source_hidden": true
    }
   },
   "source": [
    "This data analysis aims to investigate the trend in Mental Health Common Disorders over the years. Two Health surveys have been collected to assess the trend and its consequences. One comes from an API that uses SPARQL Technology, and the other is a CSV document that comes from Kaggle."
   ]
  },
  {
   "cell_type": "markdown",
   "id": "a990e912-9805-4988-b974-d7a274dca3bf",
   "metadata": {},
   "source": [
    "**INTRO TO SPARQL:**\n",
    "\n",
    "SPARQL is a query language used to navigate the web. It can return webpages, datasets, videos and more!\n",
    "It uses an endpoint against which you can your queries. It looks like SQL, but it is not.\n",
    "\n",
    "This technology allows you to access a given endpoint and retrieve a dataset from it. This developer plans to learn more about this technology in the near future.\n",
    "\n",
    "You can read more about SPARQL here: \n",
    "https://www.ontotext.com/knowledgehub/fundamentals/what-is-sparql/\n",
    "https://www.w3.org/TR/sparql11-query/\n",
    "\n",
    "Tutorials:\n",
    "https://www.youtube.com/watch?v=r7N7s1yejFQ&list=PLea0WJq13cnA6k4B6Tr1ljj2nleUl9dZt&index=1\n",
    "\n",
    "API DOCUMENTATION:\n",
    "https://statistics.gov.scot/resource?uri=http%3A%2F%2Fstatistics.gov.scot%2Fdata%2Fscottish-health-survey-scotland-level-data\n"
   ]
  },
  {
   "cell_type": "code",
   "execution_count": 3,
   "id": "d06fc1c3-b037-4982-b3e5-272de9c2be9e",
   "metadata": {},
   "outputs": [],
   "source": [
    "end_point = \"http://statistics.gov.scot/sparql\" #API endpoint"
   ]
  },
  {
   "cell_type": "code",
   "execution_count": 4,
   "id": "9e605613-9f07-4a77-8053-b7fc0ef2c910",
   "metadata": {},
   "outputs": [],
   "source": [
    "sparql = SPARQLWrapper(end_point) # Initialize the SPARQL wrapper with the endpoint URL"
   ]
  },
  {
   "cell_type": "markdown",
   "id": "1ee0c32b-0f71-4c9e-a78f-550e184b6e8c",
   "metadata": {},
   "source": [
    "The query below took hours to build. Even though I can explain what it does line by line, I am still not confident enough to alter the structure as I cannot predict what results it will yield. At the moment, we can follow the philosophy: \r\n",
    "If it is not broken, do not touch it."
   ]
  },
  {
   "cell_type": "code",
   "execution_count": 5,
   "id": "a9caad9f-423d-4c3b-93e7-90b23409232e",
   "metadata": {
    "jupyter": {
     "source_hidden": true
    }
   },
   "outputs": [],
   "source": [
    "# Set your SPARQL query\n",
    "sparql.setQuery(\"\"\"\n",
    "PREFIX qb: <http://purl.org/linked-data/cube#>\n",
    "PREFIX sdmxDimension: <http://purl.org/linked-data/sdmx/2009/dimension#>\n",
    "PREFIX scotDimension: <http://statistics.gov.scot/def/dimension/>\n",
    "PREFIX rdf: <http://www.w3.org/1999/02/22-rdf-syntax-ns#>\n",
    "PREFIX rdfs: <http://www.w3.org/2000/01/rdf-schema#>\n",
    "\n",
    "SELECT  ?refAreaLabel ?refPeriodLabel ?indicatorLabel ?sexLabel ?measureTypeLabel ?value\n",
    "WHERE {\n",
    "    ?observation a qb:Observation ;\n",
    "                 sdmxDimension:refArea ?refArea ;\n",
    "                 sdmxDimension:refPeriod ?refPeriod ;\n",
    "                 scotDimension:scottishHealthSurveyIndicator ?indicator ;\n",
    "                 scotDimension:sex ?sex ;\n",
    "                 qb:measureType ?measureType ;\n",
    "                 ?measureType ?value .\n",
    "\n",
    "    OPTIONAL { ?refArea rdfs:label ?refAreaLabel . }\n",
    "    OPTIONAL { ?refPeriod rdfs:label ?refPeriodLabel . }\n",
    "    OPTIONAL { ?indicator rdfs:label ?indicatorLabel . }\n",
    "    OPTIONAL { ?sex rdfs:label ?sexLabel . }\n",
    "    OPTIONAL { ?measureType rdfs:label ?measureTypeLabel . }\n",
    "}\n",
    "LIMIT 11881\n",
    "\"\"\")"
   ]
  },
  {
   "cell_type": "code",
   "execution_count": 6,
   "id": "e5df2c39-b42c-44d9-b43a-fed05a0785d3",
   "metadata": {
    "jupyter": {
     "source_hidden": true
    }
   },
   "outputs": [],
   "source": [
    "sparql.setReturnFormat(JSON) #Return the result as JSON"
   ]
  },
  {
   "cell_type": "code",
   "execution_count": 7,
   "id": "88af5f8c-6e87-45b5-a2b1-4e9fd4d5c503",
   "metadata": {
    "jupyter": {
     "source_hidden": true
    }
   },
   "outputs": [],
   "source": [
    "results = sparql.query().convert() #Run the query, the JSON result will be converted into a Python dictionary"
   ]
  },
  {
   "cell_type": "code",
   "execution_count": 8,
   "id": "47788e4e-6bdb-4053-99fe-0199c95258f5",
   "metadata": {
    "jupyter": {
     "source_hidden": true
    }
   },
   "outputs": [],
   "source": [
    "#Redefine the dictionary to display human-readable values instead of URIs.\n",
    "data = {\n",
    "    'Area': [result['refAreaLabel']['value'] if 'refAreaLabel' in result else None for result in results[\"results\"][\"bindings\"]],\n",
    "    'Year': [result['refPeriodLabel']['value'] if 'refPeriodLabel' in result else None for result in results[\"results\"][\"bindings\"]],\n",
    "    'Indicator': [result['indicatorLabel']['value'] if 'indicatorLabel' in result else None for result in results[\"results\"][\"bindings\"]],\n",
    "    'Gender': [result['sexLabel']['value'] if 'sexLabel' in result else None for result in results[\"results\"][\"bindings\"]],\n",
    "    'MeasureType': [result['measureTypeLabel']['value'] if 'measureTypeLabel' in result else None for result in results[\"results\"][\"bindings\"]],\n",
    "    'Value': [result['value']['value'] if 'value' in result else None for result in results[\"results\"][\"bindings\"]]\n",
    "}"
   ]
  },
  {
   "cell_type": "markdown",
   "id": "36ef415d-d79b-4a2c-9ff2-eb79a4c2b482",
   "metadata": {},
   "source": [
    "**INTRO TO CUSTOM FUNCTIONS:**\n",
    "The next lines will show a set of custom functions to help in the analysis."
   ]
  },
  {
   "cell_type": "code",
   "execution_count": 9,
   "id": "bb9289c9-d529-48e7-a05f-24a6232d5efc",
   "metadata": {
    "jupyter": {
     "source_hidden": true
    }
   },
   "outputs": [],
   "source": [
    "#This function helps to display the data into a table format with some CSS.\n",
    "def set_table_css(data_set:pd.DataFrame):\n",
    "   data_set.style.set_properties(**{'color': 'black','text-align':'center'})"
   ]
  },
  {
   "cell_type": "code",
   "execution_count": 10,
   "id": "2fe8b086-3e6e-4f27-a768-4c85bed0a7ef",
   "metadata": {
    "jupyter": {
     "source_hidden": true
    }
   },
   "outputs": [],
   "source": [
    "#This helper function creates a pivot table and avoids code repetition.\n",
    "def make_pivot_table(dataset:pd.DataFrame)->pd.DataFrame:\n",
    "    pivot_table = dataset.pivot_table(\n",
    "    index='Year', \n",
    "    columns='Indicator', \n",
    "    values='Value',\n",
    "    aggfunc='first'\n",
    "    )\n",
    "\n",
    "    #Reset the index to display the Year column\n",
    "    pivot_table.reset_index(inplace=True)\n",
    "\n",
    "    #Ensure Year is stored not as a string.\n",
    "    pivot_table['Year'] = pd.to_numeric(pivot_table['Year'], errors='coerce', downcast='integer')\n",
    "\n",
    "    # Skipping the first column ('Year') in this iteration and ensure values are floats\n",
    "    for column in pivot_table.columns[1:]:  \n",
    "        pivot_table[column] = pd.to_numeric(pivot_table[column], errors='coerce', downcast='float')\n",
    "\n",
    "    return pivot_table"
   ]
  },
  {
   "cell_type": "code",
   "execution_count": 11,
   "id": "af601cad-5c84-4054-80bc-d6631530e5e2",
   "metadata": {
    "jupyter": {
     "source_hidden": true
    }
   },
   "outputs": [],
   "source": [
    "#This function renames columns in a friendly and shorter way\n",
    "def rename_columns(dataset:pd.DataFrame, names:dict)->pd.DataFrame:\n",
    "    dataset = dataset.rename(columns=names)\n",
    "    return dataset"
   ]
  },
  {
   "cell_type": "code",
   "execution_count": 12,
   "id": "141cde27-2f3e-4404-8b0f-20482daab1da",
   "metadata": {
    "jupyter": {
     "source_hidden": true
    }
   },
   "outputs": [],
   "source": [
    "#This function prints dataset into CSV files\n",
    "def print_csv(dataset:pd.DataFrame,path:str):\n",
    "    dataset.to_csv(path, index=False)"
   ]
  },
  {
   "cell_type": "code",
   "execution_count": 13,
   "id": "215e6410-583c-49ee-aafc-4a1140fffd6a",
   "metadata": {
    "jupyter": {
     "source_hidden": true
    }
   },
   "outputs": [],
   "source": [
    "#This function helps to create a DataFrame where for each column, it calculates the Mean, Mode and Median\n",
    "def create_avg_dataframe(data_set:pd.DataFrame, columns:list)->pd.DataFrame:\n",
    "    means = []\n",
    "    modes = []\n",
    "    medians = []\n",
    "    for column in columns:\n",
    "        mean = pd.to_numeric(data_set[column]).mean()\n",
    "        median = pd.to_numeric(data_set[column]).median()\n",
    "        mode = pd.to_numeric(data_set[column]).mean()\n",
    "        means.append(format(mean, '.2f'))\n",
    "        modes.append(format(mode, '.2f'))\n",
    "        medians.append(format(median, '.2f'))\n",
    "\n",
    "    data = {\n",
    "        \"Indicator\" : columns,\n",
    "        \"MEAN\" : means,\n",
    "        \"MEDIAN\" : medians,\n",
    "        \"MODE\" : modes\n",
    "    }\n",
    "\n",
    "    return pd.DataFrame(data)"
   ]
  },
  {
   "cell_type": "markdown",
   "id": "9dfbdaeb-dd0c-422d-8062-3d264ac17504",
   "metadata": {},
   "source": [
    "**END OF CUSTOM FUNCTIONS;**"
   ]
  },
  {
   "cell_type": "code",
   "execution_count": 14,
   "id": "a368efad-2c02-4f56-b014-7cb40b9a57ec",
   "metadata": {
    "jupyter": {
     "source_hidden": true
    }
   },
   "outputs": [],
   "source": [
    "data = pd.DataFrame(data) #Put the data obtained by the API into a DataFrame"
   ]
  },
  {
   "cell_type": "code",
   "execution_count": 15,
   "id": "a54199e5-01f6-4150-82e7-f61892018489",
   "metadata": {
    "jupyter": {
     "source_hidden": true
    }
   },
   "outputs": [],
   "source": [
    "#filter data to select Scotland only as the file might come with a further background per regions of Scotland\n",
    "scotland_data = data[data['Area'] == 'Scotland']"
   ]
  },
  {
   "cell_type": "code",
   "execution_count": 16,
   "id": "c1d6b867-c67f-4413-985e-7248ea76573e",
   "metadata": {
    "jupyter": {
     "source_hidden": true
    }
   },
   "outputs": [],
   "source": [
    "#ensure data are ordered by Year in Ascending order\n",
    "scotland_data = scotland_data.sort_values(by=[\"Year\"], ascending=[True])"
   ]
  },
  {
   "cell_type": "code",
   "execution_count": 17,
   "id": "2241bd21-d995-479d-8264-12c1b9f37199",
   "metadata": {
    "jupyter": {
     "source_hidden": true
    },
    "scrolled": true
   },
   "outputs": [
    {
     "name": "stderr",
     "output_type": "stream",
     "text": [
      "C:\\Users\\salva\\AppData\\Local\\Temp\\ipykernel_15772\\4014550948.py:3: UserWarning: Boolean Series key will be reindexed to match DataFrame index.\n",
      "  filtered_data = scotland_data[\n"
     ]
    }
   ],
   "source": [
    "#select only the rows where Gender = All and Measure Type is not 95% upper or lower confidence limit \n",
    "#ignore the UserWarning.\n",
    "filtered_data = scotland_data[\n",
    "    (data['Gender'] == 'All') &\n",
    "    ~data['MeasureType'].str.contains('confidence limit', case=False, na=False)\n",
    "]"
   ]
  },
  {
   "cell_type": "code",
   "execution_count": 18,
   "id": "173b53af-7733-47f8-aa14-f96957f3c459",
   "metadata": {
    "jupyter": {
     "source_hidden": true
    }
   },
   "outputs": [],
   "source": [
    "#group by 'Year', 'Indicator', 'Sex', 'Measure Type'\n",
    "grouped_data = filtered_data.groupby(['Year', 'Indicator', 'Gender', 'MeasureType']).agg({'Value': 'first'}).reset_index()"
   ]
  },
  {
   "cell_type": "code",
   "execution_count": 19,
   "id": "7bdfa534-79d5-40bd-ac3f-3ef07b095987",
   "metadata": {},
   "outputs": [],
   "source": [
    "#select only 'Year', 'Indicator',\"Value\"\n",
    "grouped_data = grouped_data[['Year', 'Indicator',\"Value\"]]"
   ]
  },
  {
   "cell_type": "markdown",
   "id": "555c5dfe-b1a5-45c2-948e-550ad75705d0",
   "metadata": {},
   "source": [
    "**FIRST DATASET:**\n",
    "The first dataset has a set of voices that must be understood before analysing the data."
   ]
  },
  {
   "cell_type": "markdown",
   "id": "7cd7d996-83d6-4e6d-9963-a9f9fe8112a9",
   "metadata": {},
   "source": [
    "**UNDERSTANDING SURVEY'S VOICES:**\n",
    "The first one we will look at is the GHQ-12 questionnaire.\n",
    "This questionnaire is used to identify those likely to have or at risk of developing psychiatric disorders.\n",
    "It is divided into 3 Score Ranges:\n",
    "Score 0: Non-significant risk.\n",
    "Score 1-3: Mild risk.\n",
    "Score 4+: At risk.\n",
    "\n",
    "However, this is a screening tool and not a diagnostic tool."
   ]
  },
  {
   "cell_type": "code",
   "execution_count": 20,
   "id": "c7cc17cb-1a14-4f8f-9c83-75c6028efd99",
   "metadata": {
    "jupyter": {
     "source_hidden": true
    }
   },
   "outputs": [],
   "source": [
    "#Analyse data about GHQ-12 screening tool; Select only data where Indicator is relevant to GHQ-12\n",
    "GHQ_12_data = grouped_data[grouped_data['Indicator'].str.contains('GHQ-12', case=False, na=False)]"
   ]
  },
  {
   "cell_type": "code",
   "execution_count": 21,
   "id": "ed211232-658b-4d2f-9c28-5132dbfc275f",
   "metadata": {
    "jupyter": {
     "source_hidden": true
    }
   },
   "outputs": [],
   "source": [
    "#make a pivot table for a better overview\n",
    "pivot_GHQ_12_data = make_pivot_table(GHQ_12_data)"
   ]
  },
  {
   "cell_type": "code",
   "execution_count": 22,
   "id": "81fd5f49-64ff-45ca-ab76-e2ad52edaea5",
   "metadata": {
    "jupyter": {
     "source_hidden": true
    }
   },
   "outputs": [],
   "source": [
    "#Rename columns in a friendly and shorter way\n",
    "pivot_GHQ_12_data = rename_columns(pivot_GHQ_12_data, {\n",
    "    'General health questionnaire (GHQ-12): Score 0': 'Score_0',\n",
    "    'General health questionnaire (GHQ-12): Score 1-3': 'Score_1_3',\n",
    "    'General health questionnaire (GHQ-12): Score 4+': 'Score_4+',}\n",
    "    )"
   ]
  },
  {
   "cell_type": "code",
   "execution_count": 23,
   "id": "738cf880-bb2d-4cd8-9925-6e5dd39c2891",
   "metadata": {
    "jupyter": {
     "source_hidden": true
    },
    "scrolled": true
   },
   "outputs": [
    {
     "data": {
      "text/html": [
       "<div>\n",
       "<style scoped>\n",
       "    .dataframe tbody tr th:only-of-type {\n",
       "        vertical-align: middle;\n",
       "    }\n",
       "\n",
       "    .dataframe tbody tr th {\n",
       "        vertical-align: top;\n",
       "    }\n",
       "\n",
       "    .dataframe thead th {\n",
       "        text-align: right;\n",
       "    }\n",
       "</style>\n",
       "<table border=\"1\" class=\"dataframe\">\n",
       "  <thead>\n",
       "    <tr style=\"text-align: right;\">\n",
       "      <th>Indicator</th>\n",
       "      <th>Year</th>\n",
       "      <th>Score_0</th>\n",
       "      <th>Score_1_3</th>\n",
       "      <th>Score_4+</th>\n",
       "    </tr>\n",
       "  </thead>\n",
       "  <tbody>\n",
       "    <tr>\n",
       "      <th>0</th>\n",
       "      <td>2008</td>\n",
       "      <td>61.0</td>\n",
       "      <td>24.0</td>\n",
       "      <td>15.0</td>\n",
       "    </tr>\n",
       "    <tr>\n",
       "      <th>1</th>\n",
       "      <td>2009</td>\n",
       "      <td>62.0</td>\n",
       "      <td>24.0</td>\n",
       "      <td>14.0</td>\n",
       "    </tr>\n",
       "    <tr>\n",
       "      <th>2</th>\n",
       "      <td>2010</td>\n",
       "      <td>61.0</td>\n",
       "      <td>24.0</td>\n",
       "      <td>15.0</td>\n",
       "    </tr>\n",
       "    <tr>\n",
       "      <th>3</th>\n",
       "      <td>2011</td>\n",
       "      <td>60.0</td>\n",
       "      <td>25.0</td>\n",
       "      <td>15.0</td>\n",
       "    </tr>\n",
       "    <tr>\n",
       "      <th>4</th>\n",
       "      <td>2012</td>\n",
       "      <td>62.0</td>\n",
       "      <td>23.0</td>\n",
       "      <td>15.0</td>\n",
       "    </tr>\n",
       "    <tr>\n",
       "      <th>5</th>\n",
       "      <td>2013</td>\n",
       "      <td>60.0</td>\n",
       "      <td>24.0</td>\n",
       "      <td>16.0</td>\n",
       "    </tr>\n",
       "    <tr>\n",
       "      <th>6</th>\n",
       "      <td>2014</td>\n",
       "      <td>61.0</td>\n",
       "      <td>24.0</td>\n",
       "      <td>16.0</td>\n",
       "    </tr>\n",
       "    <tr>\n",
       "      <th>7</th>\n",
       "      <td>2015</td>\n",
       "      <td>60.0</td>\n",
       "      <td>24.0</td>\n",
       "      <td>16.0</td>\n",
       "    </tr>\n",
       "    <tr>\n",
       "      <th>8</th>\n",
       "      <td>2016</td>\n",
       "      <td>61.0</td>\n",
       "      <td>23.0</td>\n",
       "      <td>15.0</td>\n",
       "    </tr>\n",
       "    <tr>\n",
       "      <th>9</th>\n",
       "      <td>2017</td>\n",
       "      <td>60.0</td>\n",
       "      <td>23.0</td>\n",
       "      <td>17.0</td>\n",
       "    </tr>\n",
       "    <tr>\n",
       "      <th>10</th>\n",
       "      <td>2018</td>\n",
       "      <td>53.0</td>\n",
       "      <td>28.0</td>\n",
       "      <td>19.0</td>\n",
       "    </tr>\n",
       "    <tr>\n",
       "      <th>11</th>\n",
       "      <td>2019</td>\n",
       "      <td>59.0</td>\n",
       "      <td>24.0</td>\n",
       "      <td>17.0</td>\n",
       "    </tr>\n",
       "    <tr>\n",
       "      <th>12</th>\n",
       "      <td>2021</td>\n",
       "      <td>52.0</td>\n",
       "      <td>26.0</td>\n",
       "      <td>22.0</td>\n",
       "    </tr>\n",
       "  </tbody>\n",
       "</table>\n",
       "</div>"
      ],
      "text/plain": [
       "Indicator  Year  Score_0  Score_1_3  Score_4+\n",
       "0          2008     61.0       24.0      15.0\n",
       "1          2009     62.0       24.0      14.0\n",
       "2          2010     61.0       24.0      15.0\n",
       "3          2011     60.0       25.0      15.0\n",
       "4          2012     62.0       23.0      15.0\n",
       "5          2013     60.0       24.0      16.0\n",
       "6          2014     61.0       24.0      16.0\n",
       "7          2015     60.0       24.0      16.0\n",
       "8          2016     61.0       23.0      15.0\n",
       "9          2017     60.0       23.0      17.0\n",
       "10         2018     53.0       28.0      19.0\n",
       "11         2019     59.0       24.0      17.0\n",
       "12         2021     52.0       26.0      22.0"
      ]
     },
     "execution_count": 23,
     "metadata": {},
     "output_type": "execute_result"
    }
   ],
   "source": [
    "#give some style to the data to be displayed\n",
    "set_table_css(pivot_GHQ_12_data)\n",
    "pivot_GHQ_12_data #display the table."
   ]
  },
  {
   "cell_type": "code",
   "execution_count": 24,
   "id": "ac0fb43f-cde0-4e81-a961-bba45a620957",
   "metadata": {
    "jupyter": {
     "source_hidden": true
    }
   },
   "outputs": [
    {
     "data": {
      "text/html": [
       "<div>\n",
       "<style scoped>\n",
       "    .dataframe tbody tr th:only-of-type {\n",
       "        vertical-align: middle;\n",
       "    }\n",
       "\n",
       "    .dataframe tbody tr th {\n",
       "        vertical-align: top;\n",
       "    }\n",
       "\n",
       "    .dataframe thead th {\n",
       "        text-align: right;\n",
       "    }\n",
       "</style>\n",
       "<table border=\"1\" class=\"dataframe\">\n",
       "  <thead>\n",
       "    <tr style=\"text-align: right;\">\n",
       "      <th></th>\n",
       "      <th>Indicator</th>\n",
       "      <th>MEAN</th>\n",
       "      <th>MEDIAN</th>\n",
       "      <th>MODE</th>\n",
       "    </tr>\n",
       "  </thead>\n",
       "  <tbody>\n",
       "    <tr>\n",
       "      <th>0</th>\n",
       "      <td>Score_0</td>\n",
       "      <td>59.38</td>\n",
       "      <td>60.00</td>\n",
       "      <td>59.38</td>\n",
       "    </tr>\n",
       "    <tr>\n",
       "      <th>1</th>\n",
       "      <td>Score_1_3</td>\n",
       "      <td>24.31</td>\n",
       "      <td>24.00</td>\n",
       "      <td>24.31</td>\n",
       "    </tr>\n",
       "    <tr>\n",
       "      <th>2</th>\n",
       "      <td>Score_4+</td>\n",
       "      <td>16.31</td>\n",
       "      <td>16.00</td>\n",
       "      <td>16.31</td>\n",
       "    </tr>\n",
       "  </tbody>\n",
       "</table>\n",
       "</div>"
      ],
      "text/plain": [
       "   Indicator   MEAN MEDIAN   MODE\n",
       "0    Score_0  59.38  60.00  59.38\n",
       "1  Score_1_3  24.31  24.00  24.31\n",
       "2   Score_4+  16.31  16.00  16.31"
      ]
     },
     "execution_count": 24,
     "metadata": {},
     "output_type": "execute_result"
    }
   ],
   "source": [
    "#create a dataframe that contains mean, median and mode for each column and print it\n",
    "columns = ['Score_0','Score_1_3','Score_4+']\n",
    "avg = create_avg_dataframe(pivot_GHQ_12_data, columns)\n",
    "set_table_css(avg)\n",
    "avg"
   ]
  },
  {
   "cell_type": "code",
   "execution_count": 25,
   "id": "4be08619-7680-49d8-bb50-9698ee884080",
   "metadata": {
    "jupyter": {
     "source_hidden": true
    }
   },
   "outputs": [
    {
     "data": {
      "image/png": "[encoded data removed]",
      "text/plain": [
       "<Figure size 1000x600 with 1 Axes>"
      ]
     },
     "metadata": {},
     "output_type": "display_data"
    }
   ],
   "source": [
    "# Create a graphs to better show the trend.\n",
    "pivot_GHQ_12_data.set_index('Year', inplace=True)\n",
    "# Plotting directly using Pandas' plot function\n",
    "pivot_GHQ_12_data.plot(kind='line', figsize=(10, 6), marker='o')\n",
    "# Adding titles and labels\n",
    "plt.title('GHQ-12 Questionnaire Scores Over Time')\n",
    "plt.xlabel('Year')\n",
    "plt.ylabel('Percentage')\n",
    "plt.grid(True)\n",
    "plt.legend()\n",
    "# Display the plot\n",
    "plt.show()"
   ]
  },
  {
   "cell_type": "markdown",
   "id": "a439bb65-693c-4aae-b12b-bdd33e35b413",
   "metadata": {},
   "source": [
    "What does this data tell us?\n",
    "\n",
    "The majority, 60% of the population, scored 0, indicating no psychological distress. This significant portion sets the baseline for our discussion on the Mental Health Status of the population. The remaining 40% scored between 1-3 and 4+, showing some level of distress. The changes in data over the years show a varying trend in the Mental Health Status of the population. Below is a more in-depth background for each score:\n",
    "\r\n",
    "Score 0 (No psychological distress):Significant decreases occurred in 2011, 2013, and particularly in 2018 and 2021, which means the population experienced an increase in psychological distresson during these years. However, in 2012 and 2019, there were notable increases in the percentage of the population scoring 0, suggesting improvements in mental health or lower levels of psychological distress.\n",
    " \r\n",
    "Score 1-3 (Mild psychological distress):\r\n",
    "There were significant increases in 2011 and 2018, which means the population experiencing mild psychological distress increased. However, in 2012 and 2019, mild psychological distress levels among the population reduce\n",
    "d. \r\n",
    "Score 4+ (More severe psychological distress):\r\n",
    "There were essential increases in 2010, 2013, 2017, and especially in 2021. This means that a higher proportion of the population experienced more severe levels of psychological distress. In 2009 and 2016, there were improvements in the mental health conditions of the population, with fewer individuals experiencing higher levels of distr\n",
    "ess. \r\n",
    "IN SUMMARY:\r\n",
    "The data reveals that the mental health status of the population, as measured by the GHQ-12, is dynamic, with periods of improvement and decline. The year 2021 stands out with significant increases in more severe psychological distress, whereas years like 2012 and 2019 show improvements in overall mental health, with more individuals scoring 0 on the GHQ-12. These fluctuations could be influenced by various factors, including economic conditions, societal changes, or significant events impacting public health and well-being, such as the 2020 COVID-19 pndemic.\r\n",
    " well-being. ​."
   ]
  },
  {
   "cell_type": "markdown",
   "id": "c944a039-27b7-4ecc-86b2-0b350a154187",
   "metadata": {},
   "source": [
    "**UNDERSTANDING SURVEY'S VOICES:** The second one we will look at is Mental Well-Being. Unlike the GHQ-12 Questionnaire, this voice measures mental well-being and assesses positive aspects of mental health. This includes feelings of happiness, contentment, engagement with life, and a sense of purpose, meaning, and connection with others.\n",
    "\n",
    "In other words, the GHQ-12 focuses on assessing people who experience distress, whilst Mental well-being is used to identify people experiencing a more positive attitude towards life."
   ]
  },
  {
   "cell_type": "code",
   "execution_count": 26,
   "id": "d7d6acef-059d-4ee1-acc9-084c9a194bca",
   "metadata": {
    "jupyter": {
     "source_hidden": true
    }
   },
   "outputs": [],
   "source": [
    "#Analyse data about Mental Wellbeing; Select only data where Indicator is relevant to Mental\n",
    "mental_data = grouped_data[grouped_data['Indicator'].str.contains('Mental ', case=False, na=False)]"
   ]
  },
  {
   "cell_type": "code",
   "execution_count": 27,
   "id": "99c0bdca-317f-401c-b643-30c69dd8d4ea",
   "metadata": {
    "jupyter": {
     "source_hidden": true
    }
   },
   "outputs": [],
   "source": [
    "#make a pivot table for a better overview\n",
    "pivot_mental_data = make_pivot_table(mental_data)"
   ]
  },
  {
   "cell_type": "code",
   "execution_count": 28,
   "id": "9560380f-bae7-4fa2-a5d3-c7f80a7a8d16",
   "metadata": {
    "jupyter": {
     "source_hidden": true
    }
   },
   "outputs": [
    {
     "data": {
      "text/html": [
       "<div>\n",
       "<style scoped>\n",
       "    .dataframe tbody tr th:only-of-type {\n",
       "        vertical-align: middle;\n",
       "    }\n",
       "\n",
       "    .dataframe tbody tr th {\n",
       "        vertical-align: top;\n",
       "    }\n",
       "\n",
       "    .dataframe thead th {\n",
       "        text-align: right;\n",
       "    }\n",
       "</style>\n",
       "<table border=\"1\" class=\"dataframe\">\n",
       "  <thead>\n",
       "    <tr style=\"text-align: right;\">\n",
       "      <th>Indicator</th>\n",
       "      <th>Year</th>\n",
       "      <th>Mental wellbeing</th>\n",
       "    </tr>\n",
       "  </thead>\n",
       "  <tbody>\n",
       "    <tr>\n",
       "      <th>0</th>\n",
       "      <td>2008</td>\n",
       "      <td>50.000000</td>\n",
       "    </tr>\n",
       "    <tr>\n",
       "      <th>1</th>\n",
       "      <td>2009</td>\n",
       "      <td>49.700001</td>\n",
       "    </tr>\n",
       "    <tr>\n",
       "      <th>2</th>\n",
       "      <td>2010</td>\n",
       "      <td>49.900002</td>\n",
       "    </tr>\n",
       "    <tr>\n",
       "      <th>3</th>\n",
       "      <td>2011</td>\n",
       "      <td>49.900002</td>\n",
       "    </tr>\n",
       "    <tr>\n",
       "      <th>4</th>\n",
       "      <td>2012</td>\n",
       "      <td>49.900002</td>\n",
       "    </tr>\n",
       "    <tr>\n",
       "      <th>5</th>\n",
       "      <td>2013</td>\n",
       "      <td>50.000000</td>\n",
       "    </tr>\n",
       "    <tr>\n",
       "      <th>6</th>\n",
       "      <td>2014</td>\n",
       "      <td>50.000000</td>\n",
       "    </tr>\n",
       "    <tr>\n",
       "      <th>7</th>\n",
       "      <td>2015</td>\n",
       "      <td>49.900002</td>\n",
       "    </tr>\n",
       "    <tr>\n",
       "      <th>8</th>\n",
       "      <td>2016</td>\n",
       "      <td>49.799999</td>\n",
       "    </tr>\n",
       "    <tr>\n",
       "      <th>9</th>\n",
       "      <td>2017</td>\n",
       "      <td>49.799999</td>\n",
       "    </tr>\n",
       "    <tr>\n",
       "      <th>10</th>\n",
       "      <td>2018</td>\n",
       "      <td>49.400002</td>\n",
       "    </tr>\n",
       "    <tr>\n",
       "      <th>11</th>\n",
       "      <td>2019</td>\n",
       "      <td>49.799999</td>\n",
       "    </tr>\n",
       "    <tr>\n",
       "      <th>12</th>\n",
       "      <td>2021</td>\n",
       "      <td>48.599998</td>\n",
       "    </tr>\n",
       "  </tbody>\n",
       "</table>\n",
       "</div>"
      ],
      "text/plain": [
       "Indicator  Year  Mental wellbeing\n",
       "0          2008         50.000000\n",
       "1          2009         49.700001\n",
       "2          2010         49.900002\n",
       "3          2011         49.900002\n",
       "4          2012         49.900002\n",
       "5          2013         50.000000\n",
       "6          2014         50.000000\n",
       "7          2015         49.900002\n",
       "8          2016         49.799999\n",
       "9          2017         49.799999\n",
       "10         2018         49.400002\n",
       "11         2019         49.799999\n",
       "12         2021         48.599998"
      ]
     },
     "execution_count": 28,
     "metadata": {},
     "output_type": "execute_result"
    }
   ],
   "source": [
    "set_table_css(pivot_mental_data)\n",
    "pivot_mental_data"
   ]
  },
  {
   "cell_type": "code",
   "execution_count": 29,
   "id": "deafca0e-0164-49b2-a4d0-56d1bdf1524e",
   "metadata": {
    "jupyter": {
     "source_hidden": true
    }
   },
   "outputs": [
    {
     "data": {
      "text/html": [
       "<div>\n",
       "<style scoped>\n",
       "    .dataframe tbody tr th:only-of-type {\n",
       "        vertical-align: middle;\n",
       "    }\n",
       "\n",
       "    .dataframe tbody tr th {\n",
       "        vertical-align: top;\n",
       "    }\n",
       "\n",
       "    .dataframe thead th {\n",
       "        text-align: right;\n",
       "    }\n",
       "</style>\n",
       "<table border=\"1\" class=\"dataframe\">\n",
       "  <thead>\n",
       "    <tr style=\"text-align: right;\">\n",
       "      <th></th>\n",
       "      <th>Indicator</th>\n",
       "      <th>MEAN</th>\n",
       "      <th>MEDIAN</th>\n",
       "      <th>MODE</th>\n",
       "    </tr>\n",
       "  </thead>\n",
       "  <tbody>\n",
       "    <tr>\n",
       "      <th>0</th>\n",
       "      <td>Mental wellbeing</td>\n",
       "      <td>49.75</td>\n",
       "      <td>49.90</td>\n",
       "      <td>49.75</td>\n",
       "    </tr>\n",
       "  </tbody>\n",
       "</table>\n",
       "</div>"
      ],
      "text/plain": [
       "          Indicator   MEAN MEDIAN   MODE\n",
       "0  Mental wellbeing  49.75  49.90  49.75"
      ]
     },
     "execution_count": 29,
     "metadata": {},
     "output_type": "execute_result"
    }
   ],
   "source": [
    "#create a dataframe that contains mean, median and mode for each column and print it\n",
    "columns = ['Mental wellbeing']\n",
    "avg = create_avg_dataframe(pivot_mental_data, columns)\n",
    "set_table_css(avg)\n",
    "avg"
   ]
  },
  {
   "cell_type": "markdown",
   "id": "42371471-b13d-41c0-bf29-f54f82fd8826",
   "metadata": {},
   "source": [
    "On average, the mental well-being score across all years surveyed is around 49.75 out of 100. The median of 49.9 means that half of the mental well-being scores are above 49.9, and half are below it.\r\n",
    "The mode of 49.9 further highlights that this particular score is a common measurement of mental well-being among the surveyed years, suggesting it might be a significant representative value for mental well-being in this dataset\n",
    ".\r\n",
    "In conclusion, all average measurements suggest that the mental well-being scores are fairly consistent, hovering around the high 49s out of 100. The fact that the mean, median, and mode are very close to each other also implies that the data does not have extreme variations and might be somewhat symmetrically distributed around the central value of 49.\n",
    "​​"
   ]
  },
  {
   "cell_type": "code",
   "execution_count": 30,
   "id": "95555833-2695-48d9-b18c-8454619c2b3f",
   "metadata": {
    "jupyter": {
     "source_hidden": true
    }
   },
   "outputs": [
    {
     "data": {
      "image/png": "[encoded data removed]",
      "text/plain": [
       "<Figure size 1000x600 with 1 Axes>"
      ]
     },
     "metadata": {},
     "output_type": "display_data"
    }
   ],
   "source": [
    "#create a graph to get better insights from the data.\n",
    "plt.figure(figsize=(10, 6))\n",
    "plt.plot(pivot_mental_data['Year'], pivot_mental_data['Mental wellbeing'], marker='o', linestyle='-', color='blue')\n",
    "plt.title('Trend of Mental Wellbeing Scores Over the Years')\n",
    "plt.xlabel('Year')\n",
    "plt.ylabel('Mental Wellbeing Score')\n",
    "plt.grid(True)\n",
    "plt.xticks(pivot_mental_data['Year'], rotation=45)  # Rotate year labels for better readability\n",
    "plt.tight_layout()  # Adjust layout\n",
    "plt.show()"
   ]
  },
  {
   "cell_type": "markdown",
   "id": "d7b93205-f023-4c3e-a63d-324852c0f4f3",
   "metadata": {},
   "source": [
    "Although the mean, median, and mode indicate a central tendency around 49.9, the line graph above provides a clearer picture of any fluctuations, including decreases, throughout the surveyed years."
   ]
  },
  {
   "cell_type": "markdown",
   "id": "da6dc6b4-5905-4ead-9622-0bb61d8926d3",
   "metadata": {},
   "source": [
    "The data from the two previous dataframes ('pivot_mental_data' and 'pivot_GHQ_12_data') can be comibined together to show the whole picture."
   ]
  },
  {
   "cell_type": "code",
   "execution_count": 31,
   "id": "4272a6fd-5703-4f68-a706-dd7f349316b7",
   "metadata": {
    "jupyter": {
     "source_hidden": true
    }
   },
   "outputs": [
    {
     "data": {
      "image/png": "[encoded data removed]",
      "text/plain": [
       "<Figure size 1000x700 with 2 Axes>"
      ]
     },
     "metadata": {},
     "output_type": "display_data"
    }
   ],
   "source": [
    "# Create a new figure and axis object\n",
    "fig, ax1 = plt.subplots(figsize=(10, 7))\n",
    "pivot_mental_data.set_index('Year', inplace=True)\n",
    "# Plot GHQ-12 data\n",
    "pivot_GHQ_12_data.plot(ax=ax1, marker='o')\n",
    "ax1.set_xlabel('Year')\n",
    "ax1.set_ylabel('GHQ-12 Scores (%)')\n",
    "\n",
    "# Create a second y-axis for the mental well-being score\n",
    "ax2 = ax1.twinx()\n",
    "pivot_mental_data['Mental wellbeing'].plot(ax=ax2, color='k', marker='x', linewidth=2, legend=True)\n",
    "ax2.set_ylabel('Mental Well-being Score')\n",
    "\n",
    "# Additional settings\n",
    "ax1.set_title('Mental Health Trends: GHQ-12 Scores and Mental Well-being')\n",
    "ax1.grid(True)\n",
    "ax1.figure.legend()\n",
    "\n",
    "plt.show()"
   ]
  },
  {
   "cell_type": "markdown",
   "id": "b3820067-ba3f-419d-a868-9b138b844c04",
   "metadata": {},
   "source": [
    "Now, with the whole picture, we can notice, especially after 2020, that the mental well-being indicator dropped significantly. In addition, the HGQ-12 scores follow the same trend to support the claim that mental health among the population has been aggravating. Score 0 (people not suffering from mental health) has declined, whilst Score 1-3 and Score 4 (people suffering from mild to severe mental distress) have increased."
   ]
  },
  {
   "cell_type": "markdown",
   "id": "7627d303-ea7a-406a-b89b-cfb309efe3c1",
   "metadata": {},
   "source": [
    "**UNDERSTANDING SURVEY'S VOICES:** The third one is life satisfaction. This indicator has been reported as Mode in the survey."
   ]
  },
  {
   "cell_type": "code",
   "execution_count": 32,
   "id": "ccdf2d42-fb71-4550-ab0f-9ebead5956bc",
   "metadata": {
    "jupyter": {
     "source_hidden": true
    }
   },
   "outputs": [],
   "source": [
    "#Analyse data about Life Satisfaction; Select only data where Indicator is relevant to life\n",
    "happiness_data = grouped_data[grouped_data['Indicator'].str.contains('Life ', case=False, na=False)]"
   ]
  },
  {
   "cell_type": "code",
   "execution_count": 33,
   "id": "4565826c-cadd-44ca-8ddf-a615ef649997",
   "metadata": {
    "jupyter": {
     "source_hidden": true
    }
   },
   "outputs": [],
   "source": [
    "#make a pivot table for a better overview\n",
    "pivot_happiness_data = make_pivot_table(happiness_data)"
   ]
  },
  {
   "cell_type": "code",
   "execution_count": 34,
   "id": "d9991097-cb9f-4756-bff4-da2048e5ec4d",
   "metadata": {
    "jupyter": {
     "source_hidden": true
    }
   },
   "outputs": [],
   "source": [
    "#Rename columns in a friendly and shorter way\n",
    "pivot_happiness_data = rename_columns(pivot_happiness_data, {\n",
    "    'Life satisfaction: Above the mode (9 to 10-Extremely satisfied)': 'Extremely_Satisfied',\n",
    "    'Life satisfaction: Below the mode (0-Extremely dissatisfied to 7)': 'Extremely_Dissatisfied',\n",
    "    'Life satisfaction: Mode (8)': 'Satisfied',}\n",
    "    )"
   ]
  },
  {
   "cell_type": "code",
   "execution_count": 35,
   "id": "b7e12c71-3554-40cb-8d1a-b548c1a21da8",
   "metadata": {
    "jupyter": {
     "source_hidden": true
    }
   },
   "outputs": [
    {
     "data": {
      "text/html": [
       "<div>\n",
       "<style scoped>\n",
       "    .dataframe tbody tr th:only-of-type {\n",
       "        vertical-align: middle;\n",
       "    }\n",
       "\n",
       "    .dataframe tbody tr th {\n",
       "        vertical-align: top;\n",
       "    }\n",
       "\n",
       "    .dataframe thead th {\n",
       "        text-align: right;\n",
       "    }\n",
       "</style>\n",
       "<table border=\"1\" class=\"dataframe\">\n",
       "  <thead>\n",
       "    <tr style=\"text-align: right;\">\n",
       "      <th>Indicator</th>\n",
       "      <th>Year</th>\n",
       "      <th>Extremely_Satisfied</th>\n",
       "      <th>Extremely_Dissatisfied</th>\n",
       "      <th>Satisfied</th>\n",
       "    </tr>\n",
       "  </thead>\n",
       "  <tbody>\n",
       "    <tr>\n",
       "      <th>0</th>\n",
       "      <td>2008</td>\n",
       "      <td>31.0</td>\n",
       "      <td>40.0</td>\n",
       "      <td>30.0</td>\n",
       "    </tr>\n",
       "    <tr>\n",
       "      <th>1</th>\n",
       "      <td>2009</td>\n",
       "      <td>31.0</td>\n",
       "      <td>38.0</td>\n",
       "      <td>31.0</td>\n",
       "    </tr>\n",
       "    <tr>\n",
       "      <th>2</th>\n",
       "      <td>2010</td>\n",
       "      <td>30.0</td>\n",
       "      <td>40.0</td>\n",
       "      <td>31.0</td>\n",
       "    </tr>\n",
       "    <tr>\n",
       "      <th>3</th>\n",
       "      <td>2011</td>\n",
       "      <td>31.0</td>\n",
       "      <td>38.0</td>\n",
       "      <td>31.0</td>\n",
       "    </tr>\n",
       "    <tr>\n",
       "      <th>4</th>\n",
       "      <td>2012</td>\n",
       "      <td>32.0</td>\n",
       "      <td>37.0</td>\n",
       "      <td>31.0</td>\n",
       "    </tr>\n",
       "    <tr>\n",
       "      <th>5</th>\n",
       "      <td>2013</td>\n",
       "      <td>32.0</td>\n",
       "      <td>36.0</td>\n",
       "      <td>32.0</td>\n",
       "    </tr>\n",
       "    <tr>\n",
       "      <th>6</th>\n",
       "      <td>2014</td>\n",
       "      <td>34.0</td>\n",
       "      <td>33.0</td>\n",
       "      <td>32.0</td>\n",
       "    </tr>\n",
       "    <tr>\n",
       "      <th>7</th>\n",
       "      <td>2015</td>\n",
       "      <td>33.0</td>\n",
       "      <td>33.0</td>\n",
       "      <td>33.0</td>\n",
       "    </tr>\n",
       "    <tr>\n",
       "      <th>8</th>\n",
       "      <td>2016</td>\n",
       "      <td>34.0</td>\n",
       "      <td>34.0</td>\n",
       "      <td>33.0</td>\n",
       "    </tr>\n",
       "    <tr>\n",
       "      <th>9</th>\n",
       "      <td>2017</td>\n",
       "      <td>34.0</td>\n",
       "      <td>35.0</td>\n",
       "      <td>31.0</td>\n",
       "    </tr>\n",
       "    <tr>\n",
       "      <th>10</th>\n",
       "      <td>2018</td>\n",
       "      <td>35.0</td>\n",
       "      <td>35.0</td>\n",
       "      <td>30.0</td>\n",
       "    </tr>\n",
       "    <tr>\n",
       "      <th>11</th>\n",
       "      <td>2019</td>\n",
       "      <td>36.0</td>\n",
       "      <td>35.0</td>\n",
       "      <td>30.0</td>\n",
       "    </tr>\n",
       "    <tr>\n",
       "      <th>12</th>\n",
       "      <td>2021</td>\n",
       "      <td>33.0</td>\n",
       "      <td>37.0</td>\n",
       "      <td>31.0</td>\n",
       "    </tr>\n",
       "  </tbody>\n",
       "</table>\n",
       "</div>"
      ],
      "text/plain": [
       "Indicator  Year  Extremely_Satisfied  Extremely_Dissatisfied  Satisfied\n",
       "0          2008                 31.0                    40.0       30.0\n",
       "1          2009                 31.0                    38.0       31.0\n",
       "2          2010                 30.0                    40.0       31.0\n",
       "3          2011                 31.0                    38.0       31.0\n",
       "4          2012                 32.0                    37.0       31.0\n",
       "5          2013                 32.0                    36.0       32.0\n",
       "6          2014                 34.0                    33.0       32.0\n",
       "7          2015                 33.0                    33.0       33.0\n",
       "8          2016                 34.0                    34.0       33.0\n",
       "9          2017                 34.0                    35.0       31.0\n",
       "10         2018                 35.0                    35.0       30.0\n",
       "11         2019                 36.0                    35.0       30.0\n",
       "12         2021                 33.0                    37.0       31.0"
      ]
     },
     "execution_count": 35,
     "metadata": {},
     "output_type": "execute_result"
    }
   ],
   "source": [
    "set_table_css(pivot_happiness_data)\n",
    "pivot_happiness_data"
   ]
  },
  {
   "cell_type": "code",
   "execution_count": 36,
   "id": "829f32c1-6845-4a10-a1fd-46ca50569043",
   "metadata": {
    "jupyter": {
     "source_hidden": true
    }
   },
   "outputs": [
    {
     "data": {
      "text/html": [
       "<div>\n",
       "<style scoped>\n",
       "    .dataframe tbody tr th:only-of-type {\n",
       "        vertical-align: middle;\n",
       "    }\n",
       "\n",
       "    .dataframe tbody tr th {\n",
       "        vertical-align: top;\n",
       "    }\n",
       "\n",
       "    .dataframe thead th {\n",
       "        text-align: right;\n",
       "    }\n",
       "</style>\n",
       "<table border=\"1\" class=\"dataframe\">\n",
       "  <thead>\n",
       "    <tr style=\"text-align: right;\">\n",
       "      <th></th>\n",
       "      <th>Indicator</th>\n",
       "      <th>MEAN</th>\n",
       "      <th>MEDIAN</th>\n",
       "      <th>MODE</th>\n",
       "    </tr>\n",
       "  </thead>\n",
       "  <tbody>\n",
       "    <tr>\n",
       "      <th>0</th>\n",
       "      <td>Extremely_Satisfied</td>\n",
       "      <td>32.77</td>\n",
       "      <td>33.00</td>\n",
       "      <td>32.77</td>\n",
       "    </tr>\n",
       "    <tr>\n",
       "      <th>1</th>\n",
       "      <td>Extremely_Dissatisfied</td>\n",
       "      <td>36.23</td>\n",
       "      <td>36.00</td>\n",
       "      <td>36.23</td>\n",
       "    </tr>\n",
       "    <tr>\n",
       "      <th>2</th>\n",
       "      <td>Satisfied</td>\n",
       "      <td>31.23</td>\n",
       "      <td>31.00</td>\n",
       "      <td>31.23</td>\n",
       "    </tr>\n",
       "  </tbody>\n",
       "</table>\n",
       "</div>"
      ],
      "text/plain": [
       "                Indicator   MEAN MEDIAN   MODE\n",
       "0     Extremely_Satisfied  32.77  33.00  32.77\n",
       "1  Extremely_Dissatisfied  36.23  36.00  36.23\n",
       "2               Satisfied  31.23  31.00  31.23"
      ]
     },
     "execution_count": 36,
     "metadata": {},
     "output_type": "execute_result"
    }
   ],
   "source": [
    "#create a dataframe that contains mean, median and mode for each column and print it\n",
    "columns = ['Extremely_Satisfied','Extremely_Dissatisfied','Satisfied']\n",
    "avg = create_avg_dataframe(pivot_happiness_data, columns)\n",
    "set_table_css(avg)\n",
    "avg"
   ]
  },
  {
   "cell_type": "markdown",
   "id": "115f8a74-fe30-4eae-a38d-1ea395793151",
   "metadata": {},
   "source": [
    "The averages above reveal a notable balance in life satisfaction among the respondents. Yet there is a slight indication of more respondents leaning towards extreme dissatisfaction (as the averages for this indicator are higher than the others too). Still, if we add the Satisfied category with the Extremely Satisfied together, the majority of the population considers themselves satisfied (either extremely or normally)."
   ]
  },
  {
   "cell_type": "markdown",
   "id": "0a019030-c5e6-4074-af6c-69175525a88b",
   "metadata": {},
   "source": [
    "However, a line graph can tell us towards what direction the trend is changing"
   ]
  },
  {
   "cell_type": "code",
   "execution_count": 37,
   "id": "40a57a66-c0d6-4313-8ef8-28dd2668a7f9",
   "metadata": {
    "jupyter": {
     "source_hidden": true
    }
   },
   "outputs": [
    {
     "data": {
      "image/png": "[encoded data removed]",
      "text/plain": [
       "<Figure size 1000x600 with 1 Axes>"
      ]
     },
     "metadata": {},
     "output_type": "display_data"
    }
   ],
   "source": [
    "# Plot a line graph about happiness data\n",
    "plt.figure(figsize=(10, 6))\n",
    "plt.plot(pivot_happiness_data['Year'], pivot_happiness_data['Extremely_Satisfied'], label='Extremely Satisfied', marker='o', color='green')\n",
    "plt.plot(pivot_happiness_data['Year'], pivot_happiness_data['Extremely_Dissatisfied'], label='Extremely Dissatisfied', marker='o', color='red')\n",
    "plt.plot(pivot_happiness_data['Year'], pivot_happiness_data['Satisfied'], label='Satisfied', marker='o', color='blue')\n",
    "\n",
    "plt.title('Life Satisfaction Scores Over the Years')\n",
    "plt.xlabel('Year')\n",
    "plt.ylabel('Mode of Satisfaction Scores')\n",
    "plt.legend()\n",
    "plt.grid(True)\n",
    "plt.xticks(pivot_happiness_data['Year'], rotation=45)\n",
    "plt.tight_layout()\n",
    "\n",
    "plt.show()\n"
   ]
  },
  {
   "cell_type": "markdown",
   "id": "89a37758-7c96-4bde-baa9-b0b0f406eafc",
   "metadata": {},
   "source": [
    "Indeed, it can be noted that after 2020, people's life satisfaction has been changing. People with an unsatisfied life are on the rise, whilst people who are extremely satisfied are in decline. As to satisfied people, they are actually improving. \n",
    "\n",
    "It can be concluded that the level of life satisfication is still good but might need constant monitoring, especially towards those who are not satisfied. This is because this trend might keep rising in the future."
   ]
  },
  {
   "cell_type": "markdown",
   "id": "0f818b90-7cbe-4d41-8279-2c5fcd5c983e",
   "metadata": {},
   "source": [
    "**CUROSIOTY STATS: The number of smokers has decreased over the years, whilst the number of vapers has increased. Even though there is not enough information, it can be assumed that the Demand for tobacco has decreased due to the introduction of vapes into the market, indicating a shift in consumers' tastes and preferences.\n",
    "\n",
    "Please view the data below: (N.B. This is not related to Mental Health)"
   ]
  },
  {
   "cell_type": "code",
   "execution_count": 38,
   "id": "9fc58d49-8884-4ff9-afac-01d5e356de60",
   "metadata": {
    "jupyter": {
     "source_hidden": true
    }
   },
   "outputs": [
    {
     "data": {
      "image/png": "[encoded data removed]",
      "text/plain": [
       "<Figure size 1000x600 with 1 Axes>"
      ]
     },
     "metadata": {},
     "output_type": "display_data"
    }
   ],
   "source": [
    "#Analyse data about smoking and e-cigarettes; select only data where the Indicator is relevant to smoking and vaping\n",
    "smoke_data = grouped_data[\n",
    "                grouped_data['Indicator'].str.contains('smok', case=False, na=False)\n",
    "                | grouped_data['Indicator'].str.contains('E-cig', case=False, na=False)\n",
    "            ]\n",
    "#make a pivot table for a better overview\n",
    "pivot_smoking_data = make_pivot_table(smoke_data)\n",
    "\n",
    "#Rename columns in a friendly and shorter way\n",
    "pivot_smoking_data = rename_columns(pivot_smoking_data, {\n",
    "    'Smoking status: Current smoker': 'Smokers',\n",
    "    'Smoking status: Never smoked/Used to smoke occasionally': 'Never/Occasional_Smokers',\n",
    "    'Smoking status: Used to smoke regularly': 'Former_Smokers',\n",
    "    'E-cigarette use: Currently using': 'Vapers',\n",
    "    'E-cigarette use: Ever previously used': 'Vaped_at_least_once',\n",
    "    'E-cigarette use: Never used': 'Never_Vaped',}\n",
    "    )\n",
    "\n",
    "#Fill potential missing values with zero.\n",
    "pivot_smoking_data = pivot_smoking_data.fillna(0)\n",
    "\n",
    "#If you want to view table data, uncomment the next lines.\n",
    "#set_table_css(pivot_smoking_data)\n",
    "#pivot_smoking_data\n",
    "\n",
    "#If you want to view average data uncomment the next lines.\n",
    "#columns = ['Smokers','Never/Occasional_Smokers','Former_Smokers','Vapers','Vaped_at_least_once','Never_Vaped']\n",
    "#avg = create_avg_dataframe(pivot_smoking_data, columns)\n",
    "#set_table_css(avg)\n",
    "#avg\n",
    "\n",
    "plt.figure(figsize=(10, 6))\n",
    "plt.plot(pivot_smoking_data['Year'], pivot_smoking_data['Smokers'], label='Smokers', marker='o')\n",
    "plt.plot(pivot_smoking_data['Year'], pivot_smoking_data['Vapers'], label='Vapers', marker='x')\n",
    "plt.title('Trend of Smokers vs. Vapers Over Time')\n",
    "plt.xlabel('Year')\n",
    "plt.ylabel('Number')\n",
    "plt.legend()\n",
    "plt.grid(True)"
   ]
  },
  {
   "cell_type": "markdown",
   "id": "4574e16c-1247-442c-9256-3212f39b4330",
   "metadata": {},
   "source": [
    "The trend over time shows that as vaping becomes more prevalent (noted by the increase in vapers), there's a noticeable decrease in the number of smokers. This visual trend suggests that there could be a correlation between the rise of vaping and the decline in smoking rates.\n",
    "\n",
    "Again, despite the data suggesting that the introduction of vaping devices could be associated with a decrease in smoking rates, a more detailed analysis would be necessary to assert so."
   ]
  },
  {
   "cell_type": "markdown",
   "id": "d55ab61d-ad0a-4120-beaf-5135b59a679d",
   "metadata": {},
   "source": [
    "**INTRO TO THE SECOND DATASET:**\n",
    "This dataset comes from Kaggle and can be downloaded at https://www.kaggle.com/datasets/thedevastator/uncover-global-trends-in-mental-health-disorder.\n",
    "\n",
    "This dataset focuses more on mental disorders rather than assessing overall health. The data presented here are for the United Kingdom. Despite the previous dataset focused on Scotland, similar findings are expected in the second dataset to support the claim that mental health is becoming more relevant and affecting the whole country. "
   ]
  },
  {
   "cell_type": "code",
   "execution_count": 39,
   "id": "96b9efaa-840f-44f5-9ae1-51e6bc271fbd",
   "metadata": {
    "jupyter": {
     "source_hidden": true
    }
   },
   "outputs": [
    {
     "name": "stderr",
     "output_type": "stream",
     "text": [
      "C:\\Users\\salva\\AppData\\Local\\Temp\\ipykernel_15772\\2630302325.py:2: DtypeWarning: Columns (5,6) have mixed types. Specify dtype option on import or set low_memory=False.\n",
      "  data = pd.read_csv(\"Mental health Depression disorder Data.csv\")\n"
     ]
    }
   ],
   "source": [
    "#Load the CSV dataset. Ignore the warning as the file will be cleaned later on\n",
    "data = pd.read_csv(\"Mental health Depression disorder Data.csv\")"
   ]
  },
  {
   "cell_type": "code",
   "execution_count": 40,
   "id": "c7521f42-8041-4ebb-a9ec-dcc6a87fd734",
   "metadata": {
    "jupyter": {
     "source_hidden": true
    }
   },
   "outputs": [],
   "source": [
    "#ADDRESSING SOME ISSUES ABOUT THE YEAR COLUMN:\n",
    "#Ensure the column named Year is converted to numeric, coercing errors to NaN\n",
    "data['Year'] = pd.to_numeric(data['Year'], errors='coerce')\n",
    "#Drop potential NaN values in the Year column that a result of the previous line\n",
    "data = data.dropna(subset=['Year'])\n",
    "# Ensure the Year column is now an integer\n",
    "data['Year'] = data['Year'].astype(int)"
   ]
  },
  {
   "cell_type": "code",
   "execution_count": 41,
   "id": "37d19f87-52a5-482f-a898-62a694f012ab",
   "metadata": {
    "jupyter": {
     "source_hidden": true
    }
   },
   "outputs": [],
   "source": [
    "#filter for UK only and select only values since 2008\n",
    "uk_data = data[(data['Year'] >= 2008) & (data['Code'] == 'GBR')]"
   ]
  },
  {
   "cell_type": "code",
   "execution_count": 42,
   "id": "15125694-865b-4f0b-bad4-f990b0424b30",
   "metadata": {
    "jupyter": {
     "source_hidden": true
    }
   },
   "outputs": [],
   "source": [
    "#select relevant columns only\n",
    "uk_data = uk_data[['Year', 'Schizophrenia (%)', 'Bipolar disorder (%)','Eating disorders (%)','Anxiety disorders (%)','Drug use disorders (%)','Depression (%)','Alcohol use disorders (%)']]"
   ]
  },
  {
   "cell_type": "code",
   "execution_count": 43,
   "id": "eae379dc-2134-4b0a-947c-0a7b69b4f4fb",
   "metadata": {
    "jupyter": {
     "source_hidden": true
    }
   },
   "outputs": [],
   "source": [
    "#Rename columns in a friendly and shorter way\n",
    "uk_data = rename_columns(uk_data, {\n",
    "    'Schizophrenia (%)': 'Schizophrenia',\n",
    "    'Bipolar disorder (%)': 'Bipolar disorder',\n",
    "    'Eating disorders (%)': 'Eating disorders',\n",
    "    'Anxiety disorders (%)': 'Anxiety disorders',\n",
    "    'Drug use disorders (%)' : 'Drug use disorders',\n",
    "    'Depression (%)' : 'Depression',\n",
    "    'Alcohol use disorders (%)' : 'Alcohol use disorders',}\n",
    "    )"
   ]
  },
  {
   "cell_type": "code",
   "execution_count": 44,
   "id": "15b1d5a3-d984-4148-9f97-6c9cbf944bda",
   "metadata": {
    "jupyter": {
     "source_hidden": true
    }
   },
   "outputs": [],
   "source": [
    "#ensure floats values are actually floats and not strings\n",
    "for col in uk_data.columns[1:]: #exclude the Year column\n",
    "    uk_data[col]  = pd.to_numeric(uk_data[col], errors='coerce')"
   ]
  },
  {
   "cell_type": "code",
   "execution_count": 45,
   "id": "8e093bc4-65cf-4c73-9b90-736394526e86",
   "metadata": {
    "jupyter": {
     "source_hidden": true
    }
   },
   "outputs": [],
   "source": [
    "#ensure it is ordered by Year\n",
    "uk_data = uk_data.sort_values(by='Year')"
   ]
  },
  {
   "cell_type": "code",
   "execution_count": 46,
   "id": "44dad8b2-c8d3-4a96-8084-89e77d53ecfa",
   "metadata": {
    "jupyter": {
     "source_hidden": true
    }
   },
   "outputs": [],
   "source": [
    "#drop potential double rows\n",
    "uk_data = uk_data.drop_duplicates(subset=['Year', 'Schizophrenia', 'Bipolar disorder','Eating disorders','Anxiety disorders','Drug use disorders','Depression','Alcohol use disorders'])"
   ]
  },
  {
   "cell_type": "markdown",
   "id": "9f4873d2-0d17-402b-b68c-75ddea35d448",
   "metadata": {},
   "source": [
    "**CONSIDERATION IN CLEANING DATA**\n",
    "The dataset now comes with some other duplicate values in the column year. However, the values for the other columns are different among different rows. Some rows have a Nan Value, and some others have a value. It is necessary to group these rows together by year and ensure the last value is kept. If the last value is NaN, then it will take the last non-Nan value. \n",
    "\n",
    "To make matters worse, some percentage values are totally wrong. For instance, there are values such as 2871254.83144. We need to alter these values to address this and turn data into a more logical (and above all possible) interpretation. Therefore, numbers that do not fall in a range between 1 and 100 will be divided recursively until they fall in the range. It can be assumed that some values have been wrongly reported. For instance, instead of 2871254.83144 maybe it was meant 28.83%. This would turn the data into plausible percentage values. Therefore, the final value should 0.0287125483144.\n",
    "\n",
    "If you want to see the dataset to better understand the issue, you can uncomment the line below."
   ]
  },
  {
   "cell_type": "code",
   "execution_count": 47,
   "id": "b6fcda75-c705-4ca1-92e4-b2896b41b762",
   "metadata": {},
   "outputs": [],
   "source": [
    "#print_csv(uk_data,\"uk_data_messed_up.csv\")"
   ]
  },
  {
   "cell_type": "markdown",
   "id": "6406bdce-e412-4c60-9c93-9fedfa6432b6",
   "metadata": {},
   "source": [
    "First, let's fix the percentage issues by a writing a function that for each row it adjust the percentage."
   ]
  },
  {
   "cell_type": "code",
   "execution_count": 48,
   "id": "f4c729ff-b567-41c3-91a4-e651534bd229",
   "metadata": {
    "jupyter": {
     "source_hidden": true
    }
   },
   "outputs": [],
   "source": [
    "def correct_to_plausible_percentage(row):\n",
    "    \"\"\"\n",
    "    Ensures that values are within a plausible percentage range.\n",
    "    Continuously divide by 100 until multiplying by 100 does not exceed 100%.\n",
    "    \"\"\"\n",
    "    for col in row.index: \n",
    "        if col == 'Year': # Skip the Year column\n",
    "            continue\n",
    "        \n",
    "        val = row[col]\n",
    "        #Check and adjust the value to ensure it's a plausible percentage\n",
    "        while pd.notnull(val) and (val * 100) > 100:\n",
    "            val /= 100\n",
    "        row[col] = val\n",
    "    return row"
   ]
  },
  {
   "cell_type": "code",
   "execution_count": 49,
   "id": "5e7243a3-c4ca-41a7-9617-1edcaa6aff43",
   "metadata": {
    "jupyter": {
     "source_hidden": true
    }
   },
   "outputs": [],
   "source": [
    "#print the dataset\n",
    "uk_data = uk_data.apply(correct_to_plausible_percentage, axis=1)\n",
    "#reset the column year as Integer\n",
    "uk_data['Year'] = uk_data['Year'].astype(int)\n",
    "#uncomment the next line if you wish to print the dataset\n",
    "#print_csv(uk_data,\"uk_data_fixed.csv\")"
   ]
  },
  {
   "cell_type": "markdown",
   "id": "6c10b085-816f-48ec-bcf3-619019cb74c6",
   "metadata": {},
   "source": [
    "Now, we need a function to get to group the rows together by year and ensure the last value is kept. If the last value is NaN, then it will take the last non-Nan value."
   ]
  },
  {
   "cell_type": "code",
   "execution_count": 50,
   "id": "810efbc4-ddec-4b60-a68d-292bd5290597",
   "metadata": {},
   "outputs": [],
   "source": [
    "def group_rows_fix_values(data_set:pd.DataFrame):\n",
    "    return data_set.dropna().values[-1] if not data_set.dropna().empty else None"
   ]
  },
  {
   "cell_type": "markdown",
   "id": "6bc7e7c4-0035-4c1c-839e-5017260410ae",
   "metadata": {},
   "source": [
    "**FUNCTION BREAKDOWN:**\n",
    "\n",
    "dropna() = drop the rows where one or more cells are NaN. This will return a DataFrame with only rows that have an actual value.\n",
    "\n",
    ".values[-1] = get this data as a NumPy array. -1 tells the function to keep the last row of the DataFrame.\n",
    "\n",
    "if not data_set.dropna().empty = check if the DataFrame is not empty. If True the function returns the last row of the DataFrame as a NumPy array. Otherwise, the function returns None which means there are no rows without missing data."
   ]
  },
  {
   "cell_type": "code",
   "execution_count": 51,
   "id": "96b26be1-81ff-4f99-b672-8150f6dc6079",
   "metadata": {
    "jupyter": {
     "source_hidden": true
    }
   },
   "outputs": [],
   "source": [
    "#Group the dataset by Year and Run the function. Lambda runs the function for each row \n",
    "uk_data = uk_data.groupby('Year').agg(lambda row: group_rows_fix_values(row))"
   ]
  },
  {
   "cell_type": "code",
   "execution_count": 52,
   "id": "6e8b44a2-e3b9-497f-8de4-60bbfcace7f8",
   "metadata": {
    "jupyter": {
     "source_hidden": true
    },
    "scrolled": true
   },
   "outputs": [
    {
     "data": {
      "text/html": [
       "<div>\n",
       "<style scoped>\n",
       "    .dataframe tbody tr th:only-of-type {\n",
       "        vertical-align: middle;\n",
       "    }\n",
       "\n",
       "    .dataframe tbody tr th {\n",
       "        vertical-align: top;\n",
       "    }\n",
       "\n",
       "    .dataframe thead th {\n",
       "        text-align: right;\n",
       "    }\n",
       "</style>\n",
       "<table border=\"1\" class=\"dataframe\">\n",
       "  <thead>\n",
       "    <tr style=\"text-align: right;\">\n",
       "      <th></th>\n",
       "      <th>Schizophrenia</th>\n",
       "      <th>Bipolar disorder</th>\n",
       "      <th>Eating disorders</th>\n",
       "      <th>Anxiety disorders</th>\n",
       "      <th>Drug use disorders</th>\n",
       "      <th>Depression</th>\n",
       "      <th>Alcohol use disorders</th>\n",
       "    </tr>\n",
       "    <tr>\n",
       "      <th>Year</th>\n",
       "      <th></th>\n",
       "      <th></th>\n",
       "      <th></th>\n",
       "      <th></th>\n",
       "      <th></th>\n",
       "      <th></th>\n",
       "      <th></th>\n",
       "    </tr>\n",
       "  </thead>\n",
       "  <tbody>\n",
       "    <tr>\n",
       "      <th>2008</th>\n",
       "      <td>0.032892</td>\n",
       "      <td>0.048815</td>\n",
       "      <td>0.621450</td>\n",
       "      <td>0.046577</td>\n",
       "      <td>0.017616</td>\n",
       "      <td>0.041087</td>\n",
       "      <td>0.018523</td>\n",
       "    </tr>\n",
       "    <tr>\n",
       "      <th>2009</th>\n",
       "      <td>0.252212</td>\n",
       "      <td>0.010850</td>\n",
       "      <td>0.537520</td>\n",
       "      <td>0.046655</td>\n",
       "      <td>0.017632</td>\n",
       "      <td>0.041216</td>\n",
       "      <td>0.018897</td>\n",
       "    </tr>\n",
       "    <tr>\n",
       "      <th>2010</th>\n",
       "      <td>0.032947</td>\n",
       "      <td>0.049149</td>\n",
       "      <td>0.634600</td>\n",
       "      <td>0.046683</td>\n",
       "      <td>0.017581</td>\n",
       "      <td>0.041268</td>\n",
       "      <td>0.019085</td>\n",
       "    </tr>\n",
       "    <tr>\n",
       "      <th>2011</th>\n",
       "      <td>0.032923</td>\n",
       "      <td>0.049179</td>\n",
       "      <td>0.640220</td>\n",
       "      <td>0.046668</td>\n",
       "      <td>0.017485</td>\n",
       "      <td>0.041262</td>\n",
       "      <td>0.019139</td>\n",
       "    </tr>\n",
       "    <tr>\n",
       "      <th>2012</th>\n",
       "      <td>0.028146</td>\n",
       "      <td>0.377808</td>\n",
       "      <td>0.645250</td>\n",
       "      <td>0.046648</td>\n",
       "      <td>0.017380</td>\n",
       "      <td>0.041261</td>\n",
       "      <td>0.019174</td>\n",
       "    </tr>\n",
       "    <tr>\n",
       "      <th>2013</th>\n",
       "      <td>0.032877</td>\n",
       "      <td>0.049249</td>\n",
       "      <td>0.649840</td>\n",
       "      <td>0.046622</td>\n",
       "      <td>0.017261</td>\n",
       "      <td>0.041258</td>\n",
       "      <td>0.019189</td>\n",
       "    </tr>\n",
       "    <tr>\n",
       "      <th>2014</th>\n",
       "      <td>0.256523</td>\n",
       "      <td>0.010856</td>\n",
       "      <td>0.542871</td>\n",
       "      <td>0.046594</td>\n",
       "      <td>0.017130</td>\n",
       "      <td>0.041253</td>\n",
       "      <td>0.019180</td>\n",
       "    </tr>\n",
       "    <tr>\n",
       "      <th>2015</th>\n",
       "      <td>0.072729</td>\n",
       "      <td>0.377304</td>\n",
       "      <td>0.658600</td>\n",
       "      <td>0.046563</td>\n",
       "      <td>0.016984</td>\n",
       "      <td>0.041244</td>\n",
       "      <td>0.019144</td>\n",
       "    </tr>\n",
       "    <tr>\n",
       "      <th>2016</th>\n",
       "      <td>0.028881</td>\n",
       "      <td>0.010864</td>\n",
       "      <td>0.543352</td>\n",
       "      <td>0.046531</td>\n",
       "      <td>0.016821</td>\n",
       "      <td>0.041225</td>\n",
       "      <td>0.019075</td>\n",
       "    </tr>\n",
       "    <tr>\n",
       "      <th>2017</th>\n",
       "      <td>0.262952</td>\n",
       "      <td>0.010868</td>\n",
       "      <td>0.543054</td>\n",
       "      <td>0.046499</td>\n",
       "      <td>0.016640</td>\n",
       "      <td>0.041195</td>\n",
       "      <td>0.018971</td>\n",
       "    </tr>\n",
       "    <tr>\n",
       "      <th>2018</th>\n",
       "      <td>NaN</td>\n",
       "      <td>NaN</td>\n",
       "      <td>0.671420</td>\n",
       "      <td>NaN</td>\n",
       "      <td>NaN</td>\n",
       "      <td>NaN</td>\n",
       "      <td>NaN</td>\n",
       "    </tr>\n",
       "    <tr>\n",
       "      <th>2019</th>\n",
       "      <td>NaN</td>\n",
       "      <td>NaN</td>\n",
       "      <td>0.675300</td>\n",
       "      <td>NaN</td>\n",
       "      <td>NaN</td>\n",
       "      <td>NaN</td>\n",
       "      <td>NaN</td>\n",
       "    </tr>\n",
       "  </tbody>\n",
       "</table>\n",
       "</div>"
      ],
      "text/plain": [
       "      Schizophrenia  Bipolar disorder  Eating disorders  Anxiety disorders  \\\n",
       "Year                                                                         \n",
       "2008       0.032892          0.048815          0.621450           0.046577   \n",
       "2009       0.252212          0.010850          0.537520           0.046655   \n",
       "2010       0.032947          0.049149          0.634600           0.046683   \n",
       "2011       0.032923          0.049179          0.640220           0.046668   \n",
       "2012       0.028146          0.377808          0.645250           0.046648   \n",
       "2013       0.032877          0.049249          0.649840           0.046622   \n",
       "2014       0.256523          0.010856          0.542871           0.046594   \n",
       "2015       0.072729          0.377304          0.658600           0.046563   \n",
       "2016       0.028881          0.010864          0.543352           0.046531   \n",
       "2017       0.262952          0.010868          0.543054           0.046499   \n",
       "2018            NaN               NaN          0.671420                NaN   \n",
       "2019            NaN               NaN          0.675300                NaN   \n",
       "\n",
       "      Drug use disorders  Depression  Alcohol use disorders  \n",
       "Year                                                         \n",
       "2008            0.017616    0.041087               0.018523  \n",
       "2009            0.017632    0.041216               0.018897  \n",
       "2010            0.017581    0.041268               0.019085  \n",
       "2011            0.017485    0.041262               0.019139  \n",
       "2012            0.017380    0.041261               0.019174  \n",
       "2013            0.017261    0.041258               0.019189  \n",
       "2014            0.017130    0.041253               0.019180  \n",
       "2015            0.016984    0.041244               0.019144  \n",
       "2016            0.016821    0.041225               0.019075  \n",
       "2017            0.016640    0.041195               0.018971  \n",
       "2018                 NaN         NaN                    NaN  \n",
       "2019                 NaN         NaN                    NaN  "
      ]
     },
     "execution_count": 52,
     "metadata": {},
     "output_type": "execute_result"
    }
   ],
   "source": [
    "#Finally, visualise the data:\n",
    "set_table_css(uk_data)\n",
    "uk_data\n",
    "#if you wish to print this file, uncomment the line below\n",
    "#print_csv(uk_data,\"uk_data.csv\")"
   ]
  },
  {
   "cell_type": "code",
   "execution_count": 53,
   "id": "ea882ec7-faa1-4558-bb0c-e4a3f872df18",
   "metadata": {
    "jupyter": {
     "source_hidden": true
    }
   },
   "outputs": [
    {
     "data": {
      "text/html": [
       "<div>\n",
       "<style scoped>\n",
       "    .dataframe tbody tr th:only-of-type {\n",
       "        vertical-align: middle;\n",
       "    }\n",
       "\n",
       "    .dataframe tbody tr th {\n",
       "        vertical-align: top;\n",
       "    }\n",
       "\n",
       "    .dataframe thead th {\n",
       "        text-align: right;\n",
       "    }\n",
       "</style>\n",
       "<table border=\"1\" class=\"dataframe\">\n",
       "  <thead>\n",
       "    <tr style=\"text-align: right;\">\n",
       "      <th></th>\n",
       "      <th>Indicator</th>\n",
       "      <th>MEAN</th>\n",
       "      <th>MEDIAN</th>\n",
       "      <th>MODE</th>\n",
       "    </tr>\n",
       "  </thead>\n",
       "  <tbody>\n",
       "    <tr>\n",
       "      <th>0</th>\n",
       "      <td>Schizophrenia</td>\n",
       "      <td>0.10</td>\n",
       "      <td>0.03</td>\n",
       "      <td>0.10</td>\n",
       "    </tr>\n",
       "    <tr>\n",
       "      <th>1</th>\n",
       "      <td>Bipolar disorder</td>\n",
       "      <td>0.10</td>\n",
       "      <td>0.05</td>\n",
       "      <td>0.10</td>\n",
       "    </tr>\n",
       "    <tr>\n",
       "      <th>2</th>\n",
       "      <td>Eating disorders</td>\n",
       "      <td>0.61</td>\n",
       "      <td>0.64</td>\n",
       "      <td>0.61</td>\n",
       "    </tr>\n",
       "    <tr>\n",
       "      <th>3</th>\n",
       "      <td>Anxiety disorders</td>\n",
       "      <td>0.05</td>\n",
       "      <td>0.05</td>\n",
       "      <td>0.05</td>\n",
       "    </tr>\n",
       "    <tr>\n",
       "      <th>4</th>\n",
       "      <td>Drug use disorders</td>\n",
       "      <td>0.02</td>\n",
       "      <td>0.02</td>\n",
       "      <td>0.02</td>\n",
       "    </tr>\n",
       "    <tr>\n",
       "      <th>5</th>\n",
       "      <td>Depression</td>\n",
       "      <td>0.04</td>\n",
       "      <td>0.04</td>\n",
       "      <td>0.04</td>\n",
       "    </tr>\n",
       "    <tr>\n",
       "      <th>6</th>\n",
       "      <td>Alcohol use disorders</td>\n",
       "      <td>0.02</td>\n",
       "      <td>0.02</td>\n",
       "      <td>0.02</td>\n",
       "    </tr>\n",
       "  </tbody>\n",
       "</table>\n",
       "</div>"
      ],
      "text/plain": [
       "               Indicator  MEAN MEDIAN  MODE\n",
       "0          Schizophrenia  0.10   0.03  0.10\n",
       "1       Bipolar disorder  0.10   0.05  0.10\n",
       "2       Eating disorders  0.61   0.64  0.61\n",
       "3      Anxiety disorders  0.05   0.05  0.05\n",
       "4     Drug use disorders  0.02   0.02  0.02\n",
       "5             Depression  0.04   0.04  0.04\n",
       "6  Alcohol use disorders  0.02   0.02  0.02"
      ]
     },
     "execution_count": 53,
     "metadata": {},
     "output_type": "execute_result"
    }
   ],
   "source": [
    "#create a dataframe that contains mean, median and mode for each column and print it\n",
    "columns = ['Schizophrenia', 'Bipolar disorder','Eating disorders','Anxiety disorders','Drug use disorders','Depression','Alcohol use disorders']\n",
    "avg = create_avg_dataframe(uk_data, columns)\n",
    "set_table_css(avg)\n",
    "avg\n",
    "#if you wish to print this file, uncomment the line below\n",
    "#print_csv(avg,\"uk_avg.csv\")"
   ]
  },
  {
   "cell_type": "markdown",
   "id": "6ee6e121-3406-4e38-ba84-58c9a9664dad",
   "metadata": {},
   "source": [
    "Based on the data above, Eating Disorder appears to be the most common disorder with a mean of 61%.\n",
    "\n",
    "However, since the dataset comes from Kaggle, it cannot be assessed the accuracy of data."
   ]
  },
  {
   "cell_type": "markdown",
   "id": "2f8596b6-1e9b-44d2-8b58-aa21343b889a",
   "metadata": {},
   "source": [
    "***MIGRATING DATA INTO MYSQL***\n",
    "**IMPORTANT, MAKE SURE YOUR CONNECTION STRING IS PROPERLY SET. YOU MIGHT NEED TO CHANGE THE USER AND PASSWORD VARIABLES**"
   ]
  },
  {
   "cell_type": "code",
   "execution_count": 54,
   "id": "00641267-522e-4501-9062-409db2853caf",
   "metadata": {},
   "outputs": [],
   "source": [
    "#create engine\n",
    "database_name = \"data\"\n",
    "engine = create_engine(f'mysql+mysqlconnector://{user}:{password}@{host}/')\n",
    "\n",
    "#create the database if it doesn't exist\n",
    "with engine.connect() as conn:\n",
    "    conn.execute(text(\"CREATE DATABASE IF NOT EXISTS data\"))\n",
    "\n",
    "#connect to the database\n",
    "engine = create_engine(f'mysql+mysqlconnector://{user}:{password}@{host}/data')"
   ]
  },
  {
   "cell_type": "markdown",
   "id": "26edacf2-ef3d-4c68-ba3d-d2e31e9875f8",
   "metadata": {},
   "source": [
    "**START INSERTING THE DATA**"
   ]
  },
  {
   "cell_type": "code",
   "execution_count": 55,
   "id": "8fc988d8-e41d-4158-b221-c5dc609d7bc7",
   "metadata": {},
   "outputs": [
    {
     "data": {
      "text/plain": [
       "13"
      ]
     },
     "execution_count": 55,
     "metadata": {},
     "output_type": "execute_result"
    }
   ],
   "source": [
    "pivot_GHQ_12_data = pivot_GHQ_12_data.reset_index() #necessary to insert the year\n",
    "pivot_GHQ_12_data.to_sql(name='ghq_12', con=engine, if_exists='replace', index=False)"
   ]
  },
  {
   "cell_type": "code",
   "execution_count": 56,
   "id": "e981dbcf-17ca-4454-a1c9-25544996aeec",
   "metadata": {},
   "outputs": [
    {
     "data": {
      "text/plain": [
       "13"
      ]
     },
     "execution_count": 56,
     "metadata": {},
     "output_type": "execute_result"
    }
   ],
   "source": [
    "pivot_mental_data = pivot_mental_data.reset_index() #necessary to insert the year\n",
    "pivot_mental_data.to_sql(name='mental_wellbeing', con=engine, if_exists='replace', index=False)"
   ]
  },
  {
   "cell_type": "code",
   "execution_count": 57,
   "id": "698805f2-659f-40fc-aa70-0d0de5814825",
   "metadata": {},
   "outputs": [
    {
     "data": {
      "text/plain": [
       "13"
      ]
     },
     "execution_count": 57,
     "metadata": {},
     "output_type": "execute_result"
    }
   ],
   "source": [
    "pivot_happiness_data = pivot_happiness_data.reset_index() #necessary to insert the year\n",
    "pivot_happiness_data.to_sql(name='happiness', con=engine, if_exists='replace', index=False)"
   ]
  },
  {
   "cell_type": "code",
   "execution_count": 58,
   "id": "29129eca-0331-462f-8a03-dbf70b29797c",
   "metadata": {},
   "outputs": [
    {
     "data": {
      "text/plain": [
       "13"
      ]
     },
     "execution_count": 58,
     "metadata": {},
     "output_type": "execute_result"
    }
   ],
   "source": [
    "pivot_smoking_data = pivot_smoking_data.reset_index() #necessary to insert the year\n",
    "pivot_smoking_data.to_sql(name='smokers', con=engine, if_exists='replace', index=False)"
   ]
  },
  {
   "cell_type": "code",
   "execution_count": 59,
   "id": "4897b342-1f9d-4a8a-be92-887157e570f9",
   "metadata": {},
   "outputs": [
    {
     "data": {
      "text/plain": [
       "12"
      ]
     },
     "execution_count": 59,
     "metadata": {},
     "output_type": "execute_result"
    }
   ],
   "source": [
    "uk_data = uk_data.reset_index() #necessary to insert the year\n",
    "uk_data.to_sql(name='uk_stats', con=engine, if_exists='replace', index=False)"
   ]
  }
 ],
 "metadata": {
  "kernelspec": {
   "display_name": "Python 3 (ipykernel)",
   "language": "python",
   "name": "python3"
  },
  "language_info": {
   "codemirror_mode": {
    "name": "ipython",
    "version": 3
   },
   "file_extension": ".py",
   "mimetype": "text/x-python",
   "name": "python",
   "nbconvert_exporter": "python",
   "pygments_lexer": "ipython3",
   "version": "3.11.7"
  }
 },
 "nbformat": 4,
 "nbformat_minor": 5
}
